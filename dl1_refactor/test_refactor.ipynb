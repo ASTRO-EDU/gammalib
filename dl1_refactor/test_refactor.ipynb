{
 "cells": [
  {
   "cell_type": "code",
   "execution_count": 1,
   "metadata": {},
   "outputs": [],
   "source": [
    "from dl1_refactor import DL1_producer\n",
    "import os"
   ]
  },
  {
   "cell_type": "markdown",
   "metadata": {},
   "source": [
    "# __Refactor a DL1 file using the new XML model__"
   ]
  },
  {
   "cell_type": "markdown",
   "metadata": {},
   "source": [
    "The new XML model is used to restore the DL1 file in order to optimize both the memory occupation and possibly the reading and writing speed."
   ]
  },
  {
   "cell_type": "code",
   "execution_count": 2,
   "metadata": {},
   "outputs": [],
   "source": [
    "# Input DL1 file path\n",
    "dl1_input_path   = os.path.join(os.getcwd(), '..', 'Data', 'dl1.h5')\n",
    "# Output DL1 file path without chunks\n",
    "dl1std_out_path  = os.path.join(os.getcwd(), '..', 'Data', 'dl1new.h5')\n",
    "# Output DL1 file path with chunks\n",
    "dl1cnk_out_path = os.path.join(os.getcwd(), '..', 'Data', 'dl1chunked.h5')\n",
    "# XML model \n",
    "newmodelxml_path = 'DL1model.xml'"
   ]
  },
  {
   "cell_type": "code",
   "execution_count": 3,
   "metadata": {},
   "outputs": [],
   "source": [
    "dl1producer = DL1_producer()"
   ]
  },
  {
   "cell_type": "code",
   "execution_count": 4,
   "metadata": {},
   "outputs": [
    {
     "name": "stdout",
     "output_type": "stream",
     "text": [
      "Producing dl1 no chunks\n"
     ]
    }
   ],
   "source": [
    "print('Producing dl1 no chunks')\n",
    "dl1producer.invert_DL1(newmodelxml_path, dl1_input_path, dl1std_out_path, use_chunks=False)"
   ]
  },
  {
   "cell_type": "code",
   "execution_count": 5,
   "metadata": {},
   "outputs": [
    {
     "name": "stdout",
     "output_type": "stream",
     "text": [
      "Producing dl1 using chunks\n"
     ]
    }
   ],
   "source": [
    "print('Producing dl1 using chunks')\n",
    "dl1producer.invert_DL1(newmodelxml_path, dl1_input_path, dl1cnk_out_path, use_chunks=True)"
   ]
  },
  {
   "cell_type": "code",
   "execution_count": 6,
   "metadata": {},
   "outputs": [
    {
     "name": "stdout",
     "output_type": "stream",
     "text": [
      "5.7M\t/home/falco/Documents/dl1_refactor/gammalib/dl1_refactor/../Data/dl1.h5\n",
      "896K\t/home/falco/Documents/dl1_refactor/gammalib/dl1_refactor/../Data/dl1new.h5\n",
      "908K\t/home/falco/Documents/dl1_refactor/gammalib/dl1_refactor/../Data/dl1chunked.h5\n"
     ]
    }
   ],
   "source": [
    "!du -h {dl1_input_path}\n",
    "!du -h {dl1std_out_path}\n",
    "!du -h {dl1cnk_out_path}"
   ]
  }
 ],
 "metadata": {
  "kernelspec": {
   "display_name": "dl1ref_venv",
   "language": "python",
   "name": "python3"
  },
  "language_info": {
   "codemirror_mode": {
    "name": "ipython",
    "version": 3
   },
   "file_extension": ".py",
   "mimetype": "text/x-python",
   "name": "python",
   "nbconvert_exporter": "python",
   "pygments_lexer": "ipython3",
   "version": "3.11.5"
  }
 },
 "nbformat": 4,
 "nbformat_minor": 2
}
